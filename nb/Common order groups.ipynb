{
 "cells": [
  {
   "cell_type": "code",
   "execution_count": 2,
   "metadata": {
    "collapsed": false
   },
   "outputs": [
    {
     "data": {
      "text/plain": [
       "{'name': 'Invitae test menu',\n",
       " 'schema_version': 0,\n",
       " 'url': 'https://www.invitae.com/',\n",
       " 'version': '8.4.4'}"
      ]
     },
     "execution_count": 2,
     "metadata": {},
     "output_type": "execute_result"
    }
   ],
   "source": [
    "import json\n",
    "test_catalog = json.load(open(\"../test-catalog.json\"))\n",
    "test_catalog[\"meta\"]"
   ]
  },
  {
   "cell_type": "code",
   "execution_count": 3,
   "metadata": {
    "collapsed": false
   },
   "outputs": [
    {
     "data": {
      "text/plain": [
       "dict_keys(['order_group_tests', 'tests', 'meta'])"
      ]
     },
     "execution_count": 3,
     "metadata": {},
     "output_type": "execute_result"
    }
   ],
   "source": [
    "test_catalog.keys()"
   ]
  },
  {
   "cell_type": "markdown",
   "metadata": {},
   "source": [
    "---\n",
    "Sample catalog tree"
   ]
  },
  {
   "cell_type": "code",
   "execution_count": 19,
   "metadata": {
    "collapsed": true
   },
   "outputs": [],
   "source": [
    "# for simplicity, treat order_group_tests and tests attributes as distinct entities\n",
    "order_group_tests = test_catalog[\"order_group_tests\"]\n",
    "tests = test_catalog[\"tests\"]"
   ]
  },
  {
   "cell_type": "code",
   "execution_count": 32,
   "metadata": {
    "collapsed": false
   },
   "outputs": [
    {
     "name": "stdout",
     "output_type": "stream",
     "text": [
      "Pediatric Oncology (3)\n",
      "+ PR01104.01: Invitae Pediatric Solid Tumors Panel\n",
      "+ PR01105.01: Invitae Pediatric Hematologic Malignancies Panel\n",
      "+ PR01106.01: Invitae Pediatric Nervous System/Brain Tumors Panel\n",
      "  + PR01106.01.1: Hereditary paraganglioma pheochromocytoma genes for pediatric nervous system cancers\n",
      "\n",
      "Neuropathies and Related Disorders (10)\n",
      "+ PR03201.02: Invitae Charcot-Marie-Tooth Disease Comprehensive Panel\n",
      "+ PR03211.02: Invitae Charcot-Marie-Tooth Disease Autosomal Dominant Panel\n",
      "+ PR03212.02: Invitae Charcot-Marie-Tooth Disease Autosomal Recessive Panel\n",
      "[more tests not shown]\n",
      "\n",
      "RASopathies (8)\n",
      "+ PR01708.02: Invitae Neurofibromatosis Type 1 Test\n",
      "  + PR01708.02.1: Legius syndrome for neurofibromatosis type 1\n",
      "+ PR04151.02: Invitae RASopathies Comprehensive Panel\n",
      "+ PR04161.03: Invitae Noonan Syndrome Panel\n",
      "  + PR04161.03.1: Baraitser-Winter syndrome\n",
      "[more tests not shown]\n",
      "\n",
      "Metabolic Disorders & Newborn Screening Confirmation (53)\n",
      "+ PR02266.01: Invitae Fabry Disease Test\n",
      "+ PR04311.01: Invitae Severe Combined Immunodeficiency Panel\n",
      "  + PR04311.01.1: Preliminary-evidence gene for severe combined immunodeficiency\n",
      "  + PR04311.01.2: CHARGE syndrome\n",
      "+ PR04713.01: Invitae Canavan Disease Test\n",
      "[more tests not shown]\n",
      "\n",
      "Epilepsy (5)\n",
      "+ PR01721.01: Invitae Tuberous Sclerosis Complex Panel\n",
      "+ PR03401.01: Invitae Epilepsy Panel\n",
      "  + PR03401.01.1: Preliminary-evidence genes for epilepsy\n",
      "+ PR03402.01: Invitae Early Infantile Epileptic Encephalopathy Panel\n",
      "  + PR03402.01.1: Preliminary-evidence genes early infantile epileptic encephalopathy\n",
      "[more tests not shown]\n",
      "\n",
      "Neuromuscular Disorders (18)\n",
      "+ PR03281.01: Invitae Congenital Myasthenic Syndrome Panel\n",
      "  + PR03281.01.1: Preliminary-evidence genes for congenital myasthenic syndrome\n",
      "+ PR03285.01: Invitae Malignant Hyperthermia Susceptibility Panel\n",
      "+ PR03291.01: Invitae Comprehensive Muscular Dystrophy Panel\n",
      "  + PR03291.01.1: Preliminary-evidence genes for comprehensive muscular dystrophy\n",
      "[more tests not shown]\n",
      "\n",
      "Pediatric Immunology (2)\n",
      "+ PR04311.01: Invitae Severe Combined Immunodeficiency Panel\n",
      "  + PR04311.01.1: Preliminary-evidence gene for severe combined immunodeficiency\n",
      "  + PR04311.01.2: CHARGE syndrome\n",
      "+ PR04312.01: Invitae Periodic Fever Syndromes Panel\n",
      "\n",
      "Cystic Fibrosis (1)\n",
      "+ PR04714.02: Invitae Cystic Fibrosis Test\n",
      "  + PR04714.02.1: Chronic pancreatitis genes for cystic fibrosis\n",
      "\n",
      "Congenital Heart Disease (10)\n",
      "+ PR04151.02: Invitae RASopathies Comprehensive Panel\n",
      "+ PR04161.03: Invitae Noonan Syndrome Panel\n",
      "  + PR04161.03.1: Baraitser-Winter syndrome\n",
      "+ PR04162.01: Invitae Noonan Syndrome with Multiple Lentigines Panel\n",
      "[more tests not shown]\n",
      "\n",
      "Pediatric Disorders Group A (29)\n",
      "+ PR01704.02: Invitae PTEN-Related Disorders Test\n",
      "+ PR01708.02: Invitae Neurofibromatosis Type 1 Test\n",
      "  + PR01708.02.1: Legius syndrome for neurofibromatosis type 1\n",
      "+ PR01721.01: Invitae Tuberous Sclerosis Complex Panel\n",
      "[more tests not shown]\n",
      "\n",
      "Multiple Congenital Malformations (21)\n",
      "+ PR01739.01: Invitae Simpson-Golabi-Behmel Syndrome Test\n",
      "+ PR04213.01: Invitae Oculo-Facio-Cardio-Dental Syndrome Test\n",
      "+ PR04214.01: Invitae Sotos Syndrome Test\n",
      "[more tests not shown]\n",
      "\n",
      "Hematology (14)\n",
      "+ PR05201.01: Invitae Hereditary Hemochromatosis Panel\n",
      "+ PR05251.01: Invitae Hereditary Thrombophilia Panel\n",
      "  + PR05251.01.1: F9 for hereditary thrombophilia\n",
      "  + PR05251.01.2: MPL for hereditary thrombophilia\n",
      "+ PR05261.01: Invitae Antithrombin III Deficiency Test\n",
      "[more tests not shown]\n",
      "\n",
      "Disorders of Sex Development/Endocrinology (2)\n",
      "+ PR04411.01: Invitae Disorders of Male Sex Development Panel\n",
      "  + PR04411.01.1: Androgen insensitivity\n",
      "  + PR04411.01.2: Alpha-thalassemia X-linked intellectual disability\n",
      "  + PR04411.01.3: Campomelic dysplasia\n",
      "  + PR04411.01.4: Smith-Lemli-Opitz syndrome\n",
      "+ PR04412.01: Invitae Androgen Insensitivity Panel\n",
      "  + PR04412.01.1: Disorders of male sex development\n",
      "  + PR04412.01.2: Smith-Lemli-Opitz syndrome\n",
      "\n",
      "Inherited Eye Disorders (4)\n",
      "+ PR04722.01: Invitae Aniridia Test\n",
      "+ PR04723.01: Invitae Axenfeld-Rieger Panel\n",
      "  + PR04723.01.1: Aniridia for Axenfeld-Rieger\n",
      "+ PR05132.01: Invitae Congenital Cataracts Panel\n",
      "  + PR05132.01.1: Preliminary-evidence genes for congenital cataracts\n",
      "[more tests not shown]\n",
      "\n",
      "Cardiology (31)\n",
      "+ PR02101.03: Invitae Arrhythmia and Cardiomyopathy Comprehensive Panel\n",
      "  + PR02101.03.1: Preliminary-evidence genes for arrhythmia and cardiomyopathy\n",
      "  + PR02101.03.2: RASopathy genes for arrhythmia and cardiomyopathy\n",
      "  + PR02101.03.3: Autosomal recessive syndromic pediatric cardiomyopathy\n",
      "  + PR02101.03.4: Sudden unexpected death in epilepsy (SUDEP) genes for arrhythmia and cardiomyopathy\n",
      "+ PR02201.02: Invitae Arrhythmia Comprehensive Panel\n",
      "  + PR02201.02.1: Preliminary-evidence genes for arrhythmia\n",
      "  + PR02201.02.2: Sudden unexpected death in epilepsy (SUDEP) genes for arrhythmia\n",
      "+ PR02211.02: Invitae Long QT Syndrome Panel\n",
      "  + PR02211.02.1: Preliminary-evidence genes for long QT syndrome\n",
      "[more tests not shown]\n",
      "\n",
      "Creatine Biosynthesis (1)\n",
      "+ PR06162.01: Invitae Cerebral Creatine Deficiency Panel\n",
      "\n",
      "Hereditary Cancer (72)\n",
      "+ PR01101.01: Invitae Multi-Cancer Panel\n",
      "+ PR01102.01: Invitae Common Hereditary Cancers Panel (Breast, Gyn, GI)\n",
      "+ PR01104.01: Invitae Pediatric Solid Tumors Panel\n",
      "[more tests not shown]\n",
      "\n",
      "Pediatric Disorders Group B (20)\n",
      "+ PR04215.02: Invitae Alagille Syndrome Panel\n",
      "+ PR04712.01: Invitae Campomelic Dysplasia Test\n",
      "+ PR04713.01: Invitae Canavan Disease Test\n",
      "[more tests not shown]\n",
      "\n",
      "Ciliopathies (9)\n",
      "+ PR04101.03: Invitae Primary Ciliary Dyskinesia Panel\n",
      "  + PR04101.03.1: Preliminary-evidence gene for primary ciliary dyskinesia\n",
      "  + PR04101.03.2: Clinically-overlapping gene with primary ciliary dyskinesia\n",
      "  + PR04101.03.3: Congenital heart defect genes for primary ciliary dyskinesia\n",
      "+ PR04102.02: Invitae Ciliopathies Sensory Panel\n",
      "+ PR04111.01: Invitae Joubert and Meckel-Gruber Syndromes Panel\n",
      "[more tests not shown]\n",
      "\n"
     ]
    }
   ],
   "source": [
    "# order_group_tests contains only top-level tests (i.e., not opt-in)\n",
    "max_shown = 3\n",
    "for og, codes in order_group_tests.items():\n",
    "    print(\"{og} ({n})\".format(og=og, n=len(codes)))\n",
    "    for code in codes[:max_shown]:\n",
    "        t = test_catalog[\"tests\"][code]\n",
    "        print(\"+ {t[code]}: {t[name]}\".format(t=t))\n",
    "        for st in (tests[stc] for stc in t[\"opt_tests\"]):\n",
    "            print(\"  + {t[code]}: {t[name]}\".format(t=st))\n",
    "    if len(codes) > max_shown:\n",
    "        print(\"[more tests not shown]\")\n",
    "    print()        \n",
    "            "
   ]
  },
  {
   "cell_type": "markdown",
   "metadata": {},
   "source": [
    "---\n",
    "Code to check whether selected tests have a common order group"
   ]
  },
  {
   "cell_type": "code",
   "execution_count": 2,
   "metadata": {
    "collapsed": false
   },
   "outputs": [],
   "source": [
    "def common_order_groups(test_catalog, test_codes):\n",
    "    \"returns order groups that are common to all tests\"\n",
    "    return [og\n",
    "            for og in test_catalog[\"order_group_tests\"]\n",
    "            if (all(tc in test_catalog[\"order_group_tests\"][og] for tc in test_codes))\n",
    "           ]"
   ]
  },
  {
   "cell_type": "code",
   "execution_count": 3,
   "metadata": {
    "collapsed": false
   },
   "outputs": [
    {
     "data": {
      "text/plain": [
       "['Cardiology']"
      ]
     },
     "execution_count": 3,
     "metadata": {},
     "output_type": "execute_result"
    }
   ],
   "source": [
    "common_order_groups(test_catalog, [\"PR02101.03\", \"PR02201.02\"])"
   ]
  },
  {
   "cell_type": "code",
   "execution_count": 4,
   "metadata": {
    "collapsed": false
   },
   "outputs": [
    {
     "data": {
      "text/plain": [
       "['Pediatric Disorders Group A', 'Hereditary Cancer']"
      ]
     },
     "execution_count": 4,
     "metadata": {},
     "output_type": "execute_result"
    }
   ],
   "source": [
    "common_order_groups(test_catalog, [\"PR01704.02\",\"PR04167.01\",\"PR04168.01\"])"
   ]
  },
  {
   "cell_type": "code",
   "execution_count": 5,
   "metadata": {
    "collapsed": false
   },
   "outputs": [
    {
     "data": {
      "text/plain": [
       "[]"
      ]
     },
     "execution_count": 5,
     "metadata": {},
     "output_type": "execute_result"
    }
   ],
   "source": [
    "common_order_groups(test_catalog, [\"PR05201.01\", \"PR04101.03\"])"
   ]
  },
  {
   "cell_type": "code",
   "execution_count": null,
   "metadata": {
    "collapsed": true
   },
   "outputs": [],
   "source": []
  }
 ],
 "metadata": {
  "kernelspec": {
   "display_name": "Python 3",
   "language": "python",
   "name": "python3"
  },
  "language_info": {
   "codemirror_mode": {
    "name": "ipython",
    "version": 3
   },
   "file_extension": ".py",
   "mimetype": "text/x-python",
   "name": "python",
   "nbconvert_exporter": "python",
   "pygments_lexer": "ipython3",
   "version": "3.5.0+"
  }
 },
 "nbformat": 4,
 "nbformat_minor": 0
}
